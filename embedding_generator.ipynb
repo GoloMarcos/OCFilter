{
 "cells": [
  {
   "cell_type": "code",
   "execution_count": 1,
   "id": "37084430",
   "metadata": {},
   "outputs": [
    {
     "name": "stdout",
     "output_type": "stream",
     "text": [
      "Dimensões do dicionário: (25, 2)\n",
      "Dimensões dos dados: (42046, 25)\n"
     ]
    }
   ],
   "source": [
    "import pandas as pd\n",
    "path_dict = \"leandl_oesnpg_dicionario.parquet\"\n",
    "path_data = \"leandl_oesnpg_dados.parquet\"\n",
    "\n",
    "dicionario_df = pd.read_parquet(path_dict)\n",
    "dados_df = pd.read_parquet(path_data)\n",
    "\n",
    "print(\"Dimensões do dicionário:\", dicionario_df.shape)\n",
    "print(\"Dimensões dos dados:\", dados_df.shape)\n",
    "\n",
    "import numpy as np\n",
    "import pandas as pd\n",
    "\n",
    "def to_fset(x):\n",
    "    if isinstance(x, (list, tuple, np.ndarray)):\n",
    "        return frozenset(x)\n",
    "    if pd.isna(x):\n",
    "        return frozenset()\n",
    "    return frozenset([x])\n",
    "\n",
    "df_temas = (\n",
    "    dados_df.assign(palavras_chave=dados_df[\"palavras_chave\"].apply(to_fset))\n",
    "            [[\"tema_id\", \"tema\", \"uf_tema_info\", \"palavras_chave\"]]\n",
    "            .drop_duplicates()\n",
    ")\n",
    "\n",
    "df_temas = df_temas.reset_index(drop=True)\n",
    "\n",
    "df_temas[\"tema\"] = df_temas[\"tema\"].str.lower()\n",
    "\n",
    "dados_df[\"nome_producao\"] = dados_df[\"nome_producao\"].str.lower()\n",
    "dados_df[\"descricao_resumo\"] = dados_df[\"descricao_resumo\"].str.lower()"
   ]
  },
  {
   "cell_type": "code",
   "execution_count": 2,
   "id": "1cc85f00",
   "metadata": {},
   "outputs": [
    {
     "name": "stdout",
     "output_type": "stream",
     "text": [
      "bge-m3 0.011532880835854836\n",
      "e5 0.008617280085026947\n",
      "ibm 0.002706997490548545\n"
     ]
    }
   ],
   "source": [
    "from sentence_transformers import SentenceTransformer\n",
    "from codecarbon import EmissionsTracker\n",
    "\n",
    "models = {\n",
    "  'bge-m3' : 'BAAI/bge-m3',\n",
    "  'e5' : 'intfloat/multilingual-e5-large',\n",
    "  'ibm' : 'ibm-granite/granite-embedding-278m-multilingual'\n",
    "}\n",
    "\n",
    "for m in models.keys():\n",
    "  tracker = EmissionsTracker(project_name=m, log_level=\"error\")\n",
    "  tracker.start()\n",
    "  \n",
    "  model = SentenceTransformer(models[m])\n",
    "\n",
    "  embeddings_tema = model.encode(df_temas.tema.to_list())\n",
    "\n",
    "  df_temas['emb_tema'] = pd.Series(list(embeddings_tema), index=df_temas.index)\n",
    "\n",
    "  for index,row in df_temas.iterrows(): df_temas.at[index,'embs_KW'] = 'x'\n",
    "  for index,row in df_temas.iterrows():\n",
    "    embs = []\n",
    "    for keyword in row.palavras_chave:\n",
    "      emb_k = model.encode(keyword)\n",
    "      embs.append(np.mean([row.emb_tema,emb_k], axis=0))\n",
    "    df_temas.at[index,'embs_KW'] = embs\n",
    "\n",
    "  embeddings_CV = model.encode(dados_df.descricao_resumo)\n",
    "\n",
    "  embeddings_titulo = model.encode(dados_df.nome_producao)\n",
    "\n",
    "  meu_df = dados_df[['hash_id', 'tema_id', 'modelo_nivel']].copy()\n",
    "  meu_df['emb_CV'] = pd.Series(list(embeddings_CV), index=meu_df.index)\n",
    "  meu_df['emb_titulo'] = pd.Series(list(embeddings_titulo), index=meu_df.index)\n",
    "\n",
    "  meu_df.to_pickle('df_' + m + '.pkl')\n",
    "  df_temas.to_pickle('temas_' + m + '.pkl')\n",
    "\n",
    "  emissions: float = tracker.stop()\n",
    "  print(m, emissions)"
   ]
  },
  {
   "cell_type": "code",
   "execution_count": null,
   "id": "9404be54",
   "metadata": {},
   "outputs": [
    {
     "name": "stdout",
     "output_type": "stream",
     "text": [
      "bge-m3 1.1575784184787513e-05\n",
      "e5 1.1404820143553051e-05\n",
      "ibm 1.29924123489197e-05\n"
     ]
    }
   ],
   "source": [
    "profile = dados_df.iloc[0].descricao_resumo\n",
    "\n",
    "for m in models.keys():\n",
    "  tracker = EmissionsTracker(project_name=m, log_level=\"error\")\n",
    "  tracker.start()\n",
    "\n",
    "  model = SentenceTransformer(models[m])\n",
    "\n",
    "  model.encode(profile)\n",
    "\n",
    "  emissions: float = tracker.stop()\n",
    "  print(m, emissions)"
   ]
  },
  {
   "cell_type": "code",
   "execution_count": 11,
   "id": "d37e65c8",
   "metadata": {},
   "outputs": [
    {
     "name": "stdout",
     "output_type": "stream",
     "text": [
      "bge-m3 1.2382383373313724e-05\n",
      "e5 1.1056905305404678e-05\n",
      "ibm 1.1939663048901744e-05\n"
     ]
    }
   ],
   "source": [
    "profile = dados_df.iloc[0].nome_producao\n",
    "\n",
    "for m in models.keys():\n",
    "  tracker = EmissionsTracker(project_name=m, log_level=\"error\")\n",
    "  tracker.start()\n",
    "\n",
    "  model = SentenceTransformer(models[m])\n",
    "\n",
    "  model.encode(str(profile))\n",
    "\n",
    "  emissions: float = tracker.stop()\n",
    "  print(m, emissions)"
   ]
  }
 ],
 "metadata": {
  "kernelspec": {
   "display_name": "ocl_env",
   "language": "python",
   "name": "python3"
  },
  "language_info": {
   "codemirror_mode": {
    "name": "ipython",
    "version": 3
   },
   "file_extension": ".py",
   "mimetype": "text/x-python",
   "name": "python",
   "nbconvert_exporter": "python",
   "pygments_lexer": "ipython3",
   "version": "3.12.11"
  }
 },
 "nbformat": 4,
 "nbformat_minor": 5
}
